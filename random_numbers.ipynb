{
 "cells": [
  {
   "cell_type": "code",
   "execution_count": 1,
   "id": "e7becded",
   "metadata": {},
   "outputs": [],
   "source": [
    "# Import the random module.\n",
    "import random"
   ]
  },
  {
   "cell_type": "code",
   "execution_count": 2,
   "id": "5f287775",
   "metadata": {},
   "outputs": [
    {
     "data": {
      "text/plain": [
       "-10"
      ]
     },
     "execution_count": 2,
     "metadata": {},
     "output_type": "execute_result"
    }
   ],
   "source": [
    "#randint is short for \"random integer.\"\n",
    "random.randint(-90, 90)\n"
   ]
  },
  {
   "cell_type": "code",
   "execution_count": 3,
   "id": "d6c2ccde",
   "metadata": {},
   "outputs": [
    {
     "data": {
      "text/plain": [
       "-50.59977288026058"
      ]
     },
     "execution_count": 3,
     "metadata": {},
     "output_type": "execute_result"
    }
   ],
   "source": [
    "# primero me da un número entero y luego le agrego un decimal\n",
    "random_number=random.randint(-90,89) + random.random()\n",
    "random_number"
   ]
  },
  {
   "cell_type": "code",
   "execution_count": 8,
   "id": "e108f931",
   "metadata": {},
   "outputs": [],
   "source": [
    "#1. Assign the variable x to 1\n",
    "#2. Initialize an empty list called \"latitudes\"\n",
    "#3. We create a while loop where we generate a random latitude and add it to the list.\n",
    "#4. After the random latitude is added to the list we add one to the variable \"x\".\n",
    "#5. The while loop condition is checked again and will continue to run as long as x is less than 11.\n",
    "\n",
    "x = 1\n",
    "latitudes = []\n",
    "while x < 11:\n",
    "    random_lat = random.randint(-90, 89) + random.random()\n",
    "    latitudes.append(random_lat)\n",
    "    x += 1\n",
    "\n"
   ]
  },
  {
   "cell_type": "code",
   "execution_count": 9,
   "id": "06499d35",
   "metadata": {},
   "outputs": [
    {
     "data": {
      "text/plain": [
       "11"
      ]
     },
     "execution_count": 9,
     "metadata": {},
     "output_type": "execute_result"
    }
   ],
   "source": [
    "x"
   ]
  },
  {
   "cell_type": "code",
   "execution_count": 10,
   "id": "608a5b9e",
   "metadata": {},
   "outputs": [
    {
     "data": {
      "text/plain": [
       "[-69.82411348475766,\n",
       " -79.09018443854832,\n",
       " 71.79811336099272,\n",
       " 2.0633177072365543,\n",
       " -2.7125815087636034,\n",
       " 20.09771505290695,\n",
       " 0.18743944296088566,\n",
       " 88.74484372071875,\n",
       " -78.67011360199358,\n",
       " 25.892273669022703]"
      ]
     },
     "execution_count": 10,
     "metadata": {},
     "output_type": "execute_result"
    }
   ],
   "source": [
    "latitudes"
   ]
  },
  {
   "cell_type": "code",
   "execution_count": 13,
   "id": "df29ffcf",
   "metadata": {},
   "outputs": [
    {
     "data": {
      "text/plain": [
       "-57"
      ]
     },
     "execution_count": 13,
     "metadata": {},
     "output_type": "execute_result"
    }
   ],
   "source": [
    "#Next, we would have to use a similar method to get random longitudes between –180 and 180\n",
    "#For example, add random.randrange(-90, 90, step=1) to a new cell and run the cell. The output is a number between -90 and 90, where the step is the difference between each number in the sequence.\n",
    "#No estoy muy segura qué significa el \"step\"\n",
    "#no genera números con decimales\n",
    "\n",
    "random.randrange(-90,90,step=1)"
   ]
  },
  {
   "cell_type": "code",
   "execution_count": 14,
   "id": "c04d9fb7",
   "metadata": {},
   "outputs": [
    {
     "data": {
      "text/plain": [
       "70.29185425572788"
      ]
     },
     "execution_count": 14,
     "metadata": {},
     "output_type": "execute_result"
    }
   ],
   "source": [
    "#The uniform() function will allow us to generate a floating-point decimal number between two given numbers inside the parentheses.\n",
    "random.uniform(-90,90)"
   ]
  },
  {
   "cell_type": "code",
   "execution_count": 15,
   "id": "19c359b6",
   "metadata": {},
   "outputs": [],
   "source": [
    "#One way to generate more than a thousand latitudes and longitudes is to chain the NumPy module to the random module to create an array of latitudes or longitudes between the lowest and highest values, or -90° and 90°, and –180° and 180°, respectively. To accomplish this, we'll use the uniform() function from the random module.\n",
    "#Recall that the NumPy module is a numerical mathematics library that can be used to make arrays or matrices of numbers.\n",
    "# Import the NumPy module.\n",
    "import numpy as np"
   ]
  },
  {
   "cell_type": "code",
   "execution_count": 16,
   "id": "0aba6a25",
   "metadata": {},
   "outputs": [
    {
     "data": {
      "text/plain": [
       "62.54133791882421"
      ]
     },
     "execution_count": 16,
     "metadata": {},
     "output_type": "execute_result"
    }
   ],
   "source": [
    "#There is no need to import the random module if we import the NumPy module, as it's redundant.\n",
    "#Adding the zeros past the decimal places is optional.\n",
    "np.random.uniform(-90.000, 90.000)"
   ]
  },
  {
   "cell_type": "code",
   "execution_count": 17,
   "id": "75441e6d",
   "metadata": {},
   "outputs": [
    {
     "data": {
      "text/plain": [
       "array([ 72.79248277,  11.28509105,  54.51715464, -22.02118249,\n",
       "        -5.44289494, -73.5371394 ,  13.94185302,   4.2314024 ,\n",
       "       -78.38917928, -36.52562633,  60.862982  ,  46.14127062,\n",
       "       -32.91691295, -86.22443228,  -5.74140256, -54.41285632,\n",
       "        35.15084766, -18.70136917, -36.58591977, -32.17731789,\n",
       "        50.18436216,  -3.15819502, -51.19912244, -88.87377355,\n",
       "       -41.56995397,  69.71012708, -25.68127263, -52.3744405 ,\n",
       "       -29.53677037, -30.41275533,   2.95870482,  47.53571443,\n",
       "       -68.09846547, -87.55578041, -60.42561493, -31.55020502,\n",
       "       -88.9489754 ,  86.62939712,  -6.63606072,  -2.66171828,\n",
       "       -32.95883522,   5.94459281, -83.68372197, -54.48299303,\n",
       "       -28.16811923, -64.53999828,  41.298704  , -50.53313332,\n",
       "        66.50172799,   7.86039747])"
      ]
     },
     "execution_count": 17,
     "metadata": {},
     "output_type": "execute_result"
    }
   ],
   "source": [
    "#To generate more than one floating-point decimal number between -90 and 90, we can add the size parameter when we use the NumPy module and set that equal to any whole number.\n",
    "np.random.uniform(-90.000, 90.000, size=50)"
   ]
  },
  {
   "cell_type": "code",
   "execution_count": 18,
   "id": "19fec4c4",
   "metadata": {},
   "outputs": [],
   "source": [
    "#To test how long a piece of code or function takes to run, we can import the \"timeit\" module and use the %timeit magic command when we run our code or call the function.\n",
    "# Import timeit.\n",
    "import timeit"
   ]
  },
  {
   "cell_type": "code",
   "execution_count": 19,
   "id": "79acb3e2",
   "metadata": {},
   "outputs": [
    {
     "name": "stdout",
     "output_type": "stream",
     "text": [
      "31 µs ± 308 ns per loop (mean ± std. dev. of 7 runs, 10000 loops each)\n"
     ]
    }
   ],
   "source": [
    "%timeit np.random.uniform(-90.000, 90.000, size=1500)"
   ]
  },
  {
   "cell_type": "code",
   "execution_count": 20,
   "id": "5db7c32e",
   "metadata": {},
   "outputs": [
    {
     "name": "stdout",
     "output_type": "stream",
     "text": [
      "4.16 ms ± 168 µs per loop (mean ± std. dev. of 7 runs, 100 loops each)\n"
     ]
    }
   ],
   "source": [
    "def latitudes(size):\n",
    "    latitudes = []\n",
    "    x = 0\n",
    "    while x < (size):\n",
    "        random_lat = random.randint(-90, 90) + random.random()\n",
    "        latitudes.append(random_lat)\n",
    "        x += 1\n",
    "    return latitudes\n",
    "# Call the function with 1500.\n",
    "%timeit latitudes(1500)"
   ]
  },
  {
   "cell_type": "code",
   "execution_count": 21,
   "id": "6cf64ef1",
   "metadata": {},
   "outputs": [],
   "source": [
    "# !!Using the np.random.uniform(-90.000, 90.000, size=1500) is 100 times faster than using the function, and our code is one line, whereas the function uses eight lines!"
   ]
  },
  {
   "cell_type": "code",
   "execution_count": null,
   "id": "f24b1b82",
   "metadata": {},
   "outputs": [],
   "source": []
  }
 ],
 "metadata": {
  "kernelspec": {
   "display_name": "PythonData",
   "language": "python",
   "name": "pythondata"
  },
  "language_info": {
   "codemirror_mode": {
    "name": "ipython",
    "version": 3
   },
   "file_extension": ".py",
   "mimetype": "text/x-python",
   "name": "python",
   "nbconvert_exporter": "python",
   "pygments_lexer": "ipython3",
   "version": "3.7.11"
  }
 },
 "nbformat": 4,
 "nbformat_minor": 5
}
