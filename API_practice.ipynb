{
 "cells": [
  {
   "cell_type": "code",
   "execution_count": 1,
   "id": "c76ddde9",
   "metadata": {},
   "outputs": [],
   "source": [
    "#Let's practice zipping a small number of latitudes and longitudes and then unpacking the zipped tuple to see how the packing and unpacking work.\n",
    "## Create a practice set of random latitude and longitude combinations.\n",
    "lats = [25.12903645, 25.92017388, 26.62509167, -59.98969384, 37.30571269]\n",
    "lngs = [-67.59741259, 11.09532135, 74.84233102, -76.89176677, -61.13376282]\n",
    "lat_lngs = zip(lats, lngs)"
   ]
  },
  {
   "cell_type": "code",
   "execution_count": 2,
   "id": "87906cb5",
   "metadata": {},
   "outputs": [],
   "source": [
    "#Next, let's unpack our lat_lngs zip object into a list. This way, we only need to create a set of random latitudes and longitudes once\n",
    "#. In a new cell in the WeatherPy.ipynb file, add the following code and run the cell.\n",
    "#Add the latitudes and longitudes to a list.\n",
    "coordinates = list(lat_lngs)"
   ]
  },
  {
   "cell_type": "code",
   "execution_count": 3,
   "id": "c13b8c12",
   "metadata": {},
   "outputs": [],
   "source": [
    "#Let's import the citipy script and practice using it. In our API_practice file, add a new cell and import the citipy.py script from the citipy module.\n",
    "# Use the citipy module to determine city based on latitude and longitude.\n",
    "from citipy import citipy"
   ]
  },
  {
   "cell_type": "code",
   "execution_count": 4,
   "id": "78f8cdbd",
   "metadata": {},
   "outputs": [
    {
     "name": "stdout",
     "output_type": "stream",
     "text": [
      "cockburn town tc\n",
      "gat ly\n",
      "parvatsar in\n",
      "punta arenas cl\n",
      "saint george bm\n"
     ]
    }
   ],
   "source": [
    "# Use the print() function to display the latitude and longitude combinations.\n",
    "\n",
    "#In a new cell, create a for loop that will do the following:\n",
    "\n",
    "#Iterate through the coordinates' unzipped tuple.\n",
    "#Use citipy.nearest_city() and inside the parentheses of nearest_city(), add the latitude and longitude in this format: coordinate[0], coordinate[1].\n",
    "#To print the city name, chain the city_name to the nearest_city() function.\n",
    "#To print the country name, chain the country_code to the nearest_city() function.\n",
    "\n",
    "for coordinate in coordinates:\n",
    "    print(citipy.nearest_city(coordinate[0], coordinate[1]).city_name,\n",
    "          citipy.nearest_city(coordinate[0], coordinate[1]).country_code)"
   ]
  },
  {
   "cell_type": "code",
   "execution_count": 5,
   "id": "bafc3fcc",
   "metadata": {},
   "outputs": [
    {
     "data": {
      "text/plain": [
       "5"
      ]
     },
     "execution_count": 5,
     "metadata": {},
     "output_type": "execute_result"
    }
   ],
   "source": [
    "#When we find a city, we'll need to add it to a list so that we can use the cities to get the weather data.\n",
    "#First, import the citipy module in our WeatherPy file.\n",
    "from citipy import citipy\n",
    "\n",
    "# Create a list for holding the cities.\n",
    "cities = []\n",
    "# Identify the nearest city for each latitude and longitude combination.\n",
    "for coordinate in coordinates:\n",
    "    city = citipy.nearest_city(coordinate[0], coordinate[1]).city_name\n",
    "\n",
    "    # If the city is unique, then we will add it to the cities list.\n",
    "    if city not in cities:\n",
    "        cities.append(city)\n",
    "# Print the city count to confirm sufficient count.\n",
    "len(cities)"
   ]
  },
  {
   "cell_type": "markdown",
   "id": "70fd06d8",
   "metadata": {},
   "source": [
    "In our API_practice file, add a new cell after the code we wrote to get the unique cities from with the citipy module. In the new cell, we will import the Requests Library and your API key from the config.py file.\n",
    "\n",
    "NOTE"
   ]
  },
  {
   "cell_type": "markdown",
   "id": "ae195a6d",
   "metadata": {},
   "source": [
    "Your config.py file should be in the same folder as your API_practice.ipynb file or any Jupyter Notebook file that is accessing the config.py file."
   ]
  },
  {
   "cell_type": "code",
   "execution_count": 10,
   "id": "67cf279b",
   "metadata": {},
   "outputs": [],
   "source": [
    "# Import the requests library.\n",
    "import requests\n"
   ]
  },
  {
   "cell_type": "code",
   "execution_count": 11,
   "id": "9ddef34b",
   "metadata": {},
   "outputs": [],
   "source": [
    "# Import the API key.\n",
    "from config import weather_api_key"
   ]
  },
  {
   "cell_type": "code",
   "execution_count": null,
   "id": "1baefa8b",
   "metadata": {},
   "outputs": [],
   "source": []
  },
  {
   "cell_type": "markdown",
   "id": "9f0ee19e",
   "metadata": {},
   "source": [
    "Make an API Call\n",
    "Before we make an API call for the OpenWeatherMap, we need to use the URL provided on the OpenWeatherMap website."
   ]
  },
  {
   "cell_type": "code",
   "execution_count": 13,
   "id": "e40dcd64",
   "metadata": {},
   "outputs": [
    {
     "name": "stdout",
     "output_type": "stream",
     "text": [
      "http://api.openweathermap.org/data/2.5/weather?units=Imperial&APPID=8c6393ad49bd04df6097290b56bb7149\n"
     ]
    }
   ],
   "source": [
    "#Navigate to the OpenWeatherMap API documentation for current weather (Links to an external site.).\n",
    "\n",
    "#This page provides instructions on how to make the API call by city name. The structure of our URL should look like the following:\n",
    "\n",
    "#api.openweathermap.org/data/2.5/weather?q=city&appid=b6907d289e10d714a6e88b30761fae22\n",
    "\n",
    "#Add your API key and the city from the cities array for each call.\n",
    "# Starting URL for Weather Map API Call.\n",
    "url = \"http://api.openweathermap.org/data/2.5/weather?units=Imperial&APPID=\" + weather_api_key\n",
    "print(url)"
   ]
  },
  {
   "cell_type": "code",
   "execution_count": 14,
   "id": "b62aa63f",
   "metadata": {},
   "outputs": [],
   "source": [
    "#Si al link le doy clic, aparece el siguiente error: {\"cod\":\"400\",\"message\":\"Nothing to geocode\"}\n",
    "#The URL will return a 400 message because we haven't added a city to our URL"
   ]
  },
  {
   "cell_type": "code",
   "execution_count": 15,
   "id": "a7f75e93",
   "metadata": {},
   "outputs": [
    {
     "name": "stdout",
     "output_type": "stream",
     "text": [
      "http://api.openweathermap.org/data/2.5/weather?units=Imperial&APPID=8c6393ad49bd04df6097290b56bb7149&q=Boston\n"
     ]
    }
   ],
   "source": [
    "# Create an endpoint URL for a city.\n",
    "d\n",
    "print(city_url)"
   ]
  },
  {
   "cell_type": "code",
   "execution_count": null,
   "id": "25f3afe0",
   "metadata": {},
   "outputs": [],
   "source": [
    "#To make the JSON format readable, add the Chrome JSONView extension (Links to an external site.) to your Chrome web browser. The Boston weather data will appear as follows.\n"
   ]
  },
  {
   "cell_type": "code",
   "execution_count": 19,
   "id": "6c6133ce",
   "metadata": {},
   "outputs": [],
   "source": [
    "#Let´s save our API response to a variable\n",
    "weather_response=requests.get(city_url)\n",
    "weather_json=weather_response.json()"
   ]
  },
  {
   "cell_type": "code",
   "execution_count": 20,
   "id": "3d29b2b6",
   "metadata": {},
   "outputs": [
    {
     "data": {
      "text/plain": [
       "dict_keys(['coord', 'weather', 'base', 'main', 'visibility', 'wind', 'clouds', 'dt', 'sys', 'timezone', 'id', 'name', 'cod'])"
      ]
     },
     "execution_count": 20,
     "metadata": {},
     "output_type": "execute_result"
    }
   ],
   "source": [
    "#Para obtener qué información podemos sacar hacemos:\n",
    "weather_json.keys()"
   ]
  },
  {
   "cell_type": "code",
   "execution_count": 21,
   "id": "853897fa",
   "metadata": {},
   "outputs": [
    {
     "data": {
      "text/plain": [
       "{'temp': 45.01,\n",
       " 'feels_like': 38.59,\n",
       " 'temp_min': 41.83,\n",
       " 'temp_max': 47.1,\n",
       " 'pressure': 1020,\n",
       " 'humidity': 75}"
      ]
     },
     "execution_count": 21,
     "metadata": {},
     "output_type": "execute_result"
    }
   ],
   "source": [
    "#habrá keys que no sepamos qué son como \"main\", podemos obtener el dato con \"get\":\n",
    "weather_json.get(\"main\")"
   ]
  },
  {
   "cell_type": "code",
   "execution_count": 22,
   "id": "3734b351",
   "metadata": {},
   "outputs": [],
   "source": [
    "#Always try to consult the documentation from the API to assure you´re interpreting correctly."
   ]
  },
  {
   "cell_type": "markdown",
   "id": "13b5bc97",
   "metadata": {},
   "source": [
    "Use the get() method, a feature of the Requests Library, to request data from an API. The get() method is one of many HTTP methods that allow us to access, add, delete, get the headers, and perform other actions on the request"
   ]
  },
  {
   "cell_type": "code",
   "execution_count": 23,
   "id": "f3c3673a",
   "metadata": {},
   "outputs": [
    {
     "data": {
      "text/plain": [
       "<Response [200]>"
      ]
     },
     "execution_count": 23,
     "metadata": {},
     "output_type": "execute_result"
    }
   ],
   "source": [
    "# Make a 'Get' request for the city weather.\n",
    "city_weather = requests.get(city_url)\n",
    "city_weather"
   ]
  },
  {
   "cell_type": "code",
   "execution_count": null,
   "id": "fad89323",
   "metadata": {},
   "outputs": [],
   "source": [
    "#!!!!\n",
    "#The code output will be <Response [200]>, indicating a valid response. \n",
    "#We won't see this code when a website appears in a browser. \n",
    "#However, when a website does not appear, we'll see a 404 code, indicating a client error.\n",
    "#If we tried to get weather data from an unrecognized city, or if the weather data for a city wasn't available, we would get a 404 response.\n"
   ]
  },
  {
   "cell_type": "code",
   "execution_count": 24,
   "id": "6f979d45",
   "metadata": {},
   "outputs": [
    {
     "data": {
      "text/plain": [
       "200"
      ]
     },
     "execution_count": 24,
     "metadata": {},
     "output_type": "execute_result"
    }
   ],
   "source": [
    "city_weather.status_code"
   ]
  },
  {
   "cell_type": "code",
   "execution_count": 26,
   "id": "8ad118b9",
   "metadata": {},
   "outputs": [
    {
     "data": {
      "text/plain": [
       "<Response [404]>"
      ]
     },
     "execution_count": 26,
     "metadata": {},
     "output_type": "execute_result"
    }
   ],
   "source": [
    "# Create an endpoint URL for a city.\n",
    "city_url = url + \"&q=\" + \"Bston\"\n",
    "city_weather = requests.get(city_url)\n",
    "city_weather\n",
    "#When we run this cell the output is a <Response [404]>\n",
    "#We'll review how to handle such response errors, but first, let's learn how to get data from a request."
   ]
  },
  {
   "cell_type": "code",
   "execution_count": 27,
   "id": "5b9c03ad",
   "metadata": {},
   "outputs": [
    {
     "data": {
      "text/plain": [
       "<Response [200]>"
      ]
     },
     "execution_count": 27,
     "metadata": {},
     "output_type": "execute_result"
    }
   ],
   "source": [
    "# Create an endpoint URL for a city.\n",
    "city_url = url + \"&q=\" + \"Boston\"\n",
    "city_weather = requests.get(city_url)\n",
    "city_weather"
   ]
  },
  {
   "cell_type": "code",
   "execution_count": 28,
   "id": "0432c666",
   "metadata": {},
   "outputs": [
    {
     "data": {
      "text/plain": [
       "'{\"coord\":{\"lon\":-71.0598,\"lat\":42.3584},\"weather\":[{\"id\":804,\"main\":\"Clouds\",\"description\":\"overcast clouds\",\"icon\":\"04n\"}],\"base\":\"stations\",\"main\":{\"temp\":45.01,\"feels_like\":38.59,\"temp_min\":41.83,\"temp_max\":47.1,\"pressure\":1020,\"humidity\":75},\"visibility\":10000,\"wind\":{\"speed\":13.8,\"deg\":40},\"clouds\":{\"all\":100},\"dt\":1651991779,\"sys\":{\"type\":2,\"id\":2013408,\"country\":\"US\",\"sunrise\":1652002232,\"sunset\":1652053856},\"timezone\":-14400,\"id\":4930956,\"name\":\"Boston\",\"cod\":200}'"
      ]
     },
     "execution_count": 28,
     "metadata": {},
     "output_type": "execute_result"
    }
   ],
   "source": [
    "#When we receive a valid response from the server, we have to decide on the data format. The options are text, JSON, XML, or HTML format. We can apply the format attributes to get the data into a useful format to parse.\n",
    "\n",
    "#One format that provides a preview of the JSON data is the text attribute. Let's get the content for the Boston weather data using the following code.\n",
    "\n",
    "# Get the text of the 'Get' request.\n",
    "city_weather.text"
   ]
  },
  {
   "cell_type": "code",
   "execution_count": null,
   "id": "e65ddb22",
   "metadata": {},
   "outputs": [],
   "source": []
  },
  {
   "cell_type": "code",
   "execution_count": 31,
   "id": "36035a6a",
   "metadata": {},
   "outputs": [
    {
     "data": {
      "text/plain": [
       "{'coord': {'lon': -71.0598, 'lat': 42.3584},\n",
       " 'weather': [{'id': 804,\n",
       "   'main': 'Clouds',\n",
       "   'description': 'overcast clouds',\n",
       "   'icon': '04n'}],\n",
       " 'base': 'stations',\n",
       " 'main': {'temp': 45.01,\n",
       "  'feels_like': 38.59,\n",
       "  'temp_min': 41.83,\n",
       "  'temp_max': 47.1,\n",
       "  'pressure': 1020,\n",
       "  'humidity': 75},\n",
       " 'visibility': 10000,\n",
       " 'wind': {'speed': 13.8, 'deg': 40},\n",
       " 'clouds': {'all': 100},\n",
       " 'dt': 1651991779,\n",
       " 'sys': {'type': 2,\n",
       "  'id': 2013408,\n",
       "  'country': 'US',\n",
       "  'sunrise': 1652002232,\n",
       "  'sunset': 1652053856},\n",
       " 'timezone': -14400,\n",
       " 'id': 4930956,\n",
       " 'name': 'Boston',\n",
       " 'cod': 200}"
      ]
     },
     "execution_count": 31,
     "metadata": {},
     "output_type": "execute_result"
    }
   ],
   "source": [
    "#The text in the output is a dictionary of dictionaries and arrays, or a JSON file. We can work with this data, but it might be more challenging if we needed to retrieve temperature (temp) and humidity ( humidity) from this output because the data is in a sentence format.\n",
    "\n",
    "#Let's use the json() attribute with our response and run the cell.\n",
    "\n",
    "# Get the JSON text of the 'Get' request.\n",
    "city_weather.json()\n",
    "\n",
    "#With the JSON method, it is a lot easier to see the overall structure of the data, which will make it easier to retrieve data such as temperature and humidity."
   ]
  },
  {
   "cell_type": "code",
   "execution_count": 32,
   "id": "f5f22d05",
   "metadata": {},
   "outputs": [
    {
     "name": "stdout",
     "output_type": "stream",
     "text": [
      "City Weather found.\n"
     ]
    }
   ],
   "source": [
    "#When we submit a get request for the city_weather, we want to make sure that we get a valid response, i.e., 200, before we retrieve any data. To check if we get a valid response, we can write a conditional expression that will evaluate whether the status code is equal to 200. If it is, then we can print out a statement that says the weather data was found. If there is a response other than 200, we can print out a statement that says the weather was not found, as in the following example:\n",
    "# Create an endpoint URL for a city.\n",
    "city_url = url + \"&q=\" + \"Boston\"\n",
    "city_weather = requests.get(city_url)\n",
    "if city_weather.status_code == 200:\n",
    "    print(f\"City Weather found.\")\n",
    "else:\n",
    "    print(f\"City weather not found.\")"
   ]
  },
  {
   "cell_type": "code",
   "execution_count": 33,
   "id": "94a40743",
   "metadata": {},
   "outputs": [
    {
     "name": "stdout",
     "output_type": "stream",
     "text": [
      "City weather not found.\n"
     ]
    }
   ],
   "source": [
    "# Create an endpoint URL for a city.\n",
    "city_url = url + \"&q=\" + \"Bston\"\n",
    "city_weather = requests.get(city_url)\n",
    "if city_weather.status_code == 200:\n",
    "    print(f\"City Weather found.\")\n",
    "else:\n",
    "    print(f\"City weather not found.\")"
   ]
  },
  {
   "cell_type": "code",
   "execution_count": 34,
   "id": "5ba125ef",
   "metadata": {},
   "outputs": [
    {
     "name": "stdout",
     "output_type": "stream",
     "text": [
      "http://api.openweathermap.org/data/2.5/weather?units=Imperial&APPID=8c6393ad49bd04df6097290b56bb7149&q=Bston\n"
     ]
    }
   ],
   "source": [
    "#However, if we type print(city_url) in a new cell and run the cell, the output will be a URL. If we click the URL, the web browser returns a 404 response and there is no data to retrieve.\n",
    "print(city_url)"
   ]
  },
  {
   "cell_type": "code",
   "execution_count": 35,
   "id": "ed8b922d",
   "metadata": {},
   "outputs": [
    {
     "name": "stdout",
     "output_type": "stream",
     "text": [
      "City Weather found.\n"
     ]
    }
   ],
   "source": [
    "#When we submit a get request for the city_weather, we want to make sure that we get a valid response, i.e., 200, before we retrieve any data. To check if we get a valid response, we can write a conditional expression that will evaluate whether the status code is equal to 200. If it is, then we can print out a statement that says the weather data was found. If there is a response other than 200, we can print out a statement that says the weather was not found, as in the following example:\n",
    "# Create an endpoint URL for a city.\n",
    "city_url = url + \"&q=\" + \"Boston\"\n",
    "city_weather = requests.get(city_url)\n",
    "if city_weather.status_code == 200:\n",
    "    print(f\"City Weather found.\")\n",
    "else:\n",
    "    print(f\"City weather not found.\")"
   ]
  },
  {
   "cell_type": "code",
   "execution_count": 36,
   "id": "226948e2",
   "metadata": {},
   "outputs": [
    {
     "data": {
      "text/plain": [
       "{'coord': {'lon': -71.0598, 'lat': 42.3584},\n",
       " 'weather': [{'id': 804,\n",
       "   'main': 'Clouds',\n",
       "   'description': 'overcast clouds',\n",
       "   'icon': '04n'}],\n",
       " 'base': 'stations',\n",
       " 'main': {'temp': 45,\n",
       "  'feels_like': 39.47,\n",
       "  'temp_min': 41.83,\n",
       "  'temp_max': 47.1,\n",
       "  'pressure': 1020,\n",
       "  'humidity': 75},\n",
       " 'visibility': 10000,\n",
       " 'wind': {'speed': 11.01, 'deg': 0, 'gust': 0},\n",
       " 'clouds': {'all': 100},\n",
       " 'dt': 1651993339,\n",
       " 'sys': {'type': 2,\n",
       "  'id': 2013408,\n",
       "  'country': 'US',\n",
       "  'sunrise': 1652002232,\n",
       "  'sunset': 1652053856},\n",
       " 'timezone': -14400,\n",
       " 'id': 4930956,\n",
       " 'name': 'Boston',\n",
       " 'cod': 200}"
      ]
     },
     "execution_count": 36,
     "metadata": {},
     "output_type": "execute_result"
    }
   ],
   "source": [
    "# Create an endpoint URL for a city.\n",
    "city_url = url + \"&q=\" + \"Boston\"\n",
    "city_weather = requests.get(city_url)\n",
    "city_weather.json()"
   ]
  },
  {
   "cell_type": "code",
   "execution_count": 38,
   "id": "28b6b725",
   "metadata": {},
   "outputs": [
    {
     "data": {
      "text/plain": [
       "{'coord': {'lon': -71.0598, 'lat': 42.3584},\n",
       " 'weather': [{'id': 804,\n",
       "   'main': 'Clouds',\n",
       "   'description': 'overcast clouds',\n",
       "   'icon': '04n'}],\n",
       " 'base': 'stations',\n",
       " 'main': {'temp': 45,\n",
       "  'feels_like': 39.47,\n",
       "  'temp_min': 41.83,\n",
       "  'temp_max': 47.1,\n",
       "  'pressure': 1020,\n",
       "  'humidity': 75},\n",
       " 'visibility': 10000,\n",
       " 'wind': {'speed': 11.01, 'deg': 0, 'gust': 0},\n",
       " 'clouds': {'all': 100},\n",
       " 'dt': 1651993339,\n",
       " 'sys': {'type': 2,\n",
       "  'id': 2013408,\n",
       "  'country': 'US',\n",
       "  'sunrise': 1652002232,\n",
       "  'sunset': 1652053856},\n",
       " 'timezone': -14400,\n",
       " 'id': 4930956,\n",
       " 'name': 'Boston',\n",
       " 'cod': 200}"
      ]
     },
     "execution_count": 38,
     "metadata": {},
     "output_type": "execute_result"
    }
   ],
   "source": [
    "# Get the JSON data.\n",
    "boston_data = city_weather.json()\n"
   ]
  },
  {
   "cell_type": "code",
   "execution_count": 40,
   "id": "22a87e4b",
   "metadata": {},
   "outputs": [
    {
     "data": {
      "text/plain": [
       "{'type': 2,\n",
       " 'id': 2013408,\n",
       " 'country': 'US',\n",
       " 'sunrise': 1652002232,\n",
       " 'sunset': 1652053856}"
      ]
     },
     "execution_count": 40,
     "metadata": {},
     "output_type": "execute_result"
    }
   ],
   "source": [
    "#Next, using the sys key to get the corresponding value, we type boston_data['sys'] in a new cell and run the cell. \n",
    "boston_data['sys']\n",
    "#When we used boston_data[\"sys\"], there was a key for sunrise and a key for sunset in the output. The value for these keys is the time of day in seconds in a database timestamp format"
   ]
  },
  {
   "cell_type": "code",
   "execution_count": 41,
   "id": "b8c582b2",
   "metadata": {},
   "outputs": [
    {
     "data": {
      "text/plain": [
       "'US'"
      ]
     },
     "execution_count": 41,
     "metadata": {},
     "output_type": "execute_result"
    }
   ],
   "source": [
    "boston_data['sys'][\"country\"]"
   ]
  },
  {
   "cell_type": "code",
   "execution_count": 42,
   "id": "ac5bb5f8",
   "metadata": {},
   "outputs": [
    {
     "data": {
      "text/plain": [
       "1651993339"
      ]
     },
     "execution_count": 42,
     "metadata": {},
     "output_type": "execute_result"
    }
   ],
   "source": [
    "boston_data[\"dt\"]\n",
    "#This format is called Coordinated Universal Time (UTC) or Greenwich Mean Time (GMT). If we want to convert the timestamp to the International Organization for Standardization (ISO) format, or YYYY-MM-DD-HH-MM-SS, we need to use the Python datetime module.\""
   ]
  },
  {
   "cell_type": "code",
   "execution_count": 45,
   "id": "17500a71",
   "metadata": {},
   "outputs": [
    {
     "data": {
      "text/plain": [
       "datetime.datetime(2022, 5, 8, 7, 2, 19)"
      ]
     },
     "execution_count": 45,
     "metadata": {},
     "output_type": "execute_result"
    }
   ],
   "source": [
    "# Import the datetime module from the datetime library.\n",
    "from datetime import datetime\n",
    "# Get the date from the JSON file.\n",
    "date = boston_data[\"dt\"]\n",
    "# Convert the UTC date to a date format with year, month, day, hours, minutes, and seconds.\n",
    "datetime.utcfromtimestamp(date)"
   ]
  },
  {
   "cell_type": "code",
   "execution_count": 46,
   "id": "8e2db341",
   "metadata": {},
   "outputs": [
    {
     "data": {
      "text/plain": [
       "'2022-05-08 07:02:19'"
      ]
     },
     "execution_count": 46,
     "metadata": {},
     "output_type": "execute_result"
    }
   ],
   "source": [
    "# Import the datetime module from the datetime library.\n",
    "from datetime import datetime\n",
    "# Get the date from the JSON file.\n",
    "date = boston_data[\"dt\"]\n",
    "# Convert the UTC date to a date format with year, month, day, hours, minutes, and seconds.\n",
    "datetime.utcfromtimestamp(date).strftime('%Y-%m-%d %H:%M:%S')"
   ]
  },
  {
   "cell_type": "raw",
   "id": "2372a128",
   "metadata": {},
   "source": [
    "lat = boston_data[\"coord\"][\"lat\"]\n",
    "lng = boston_data[\"coord\"][\"lon\"]\n",
    "max_temp = boston_data[\"main\"][\"temp_max\"]\n",
    "humidity = boston_data[\"main\"][\"humidity\"]\n",
    "clouds = boston_data[\"clouds\"][\"all\"]\n",
    "wind = boston_data[\"wind\"][\"speed\"]\n",
    "print(lat, lng, max_temp, humidity, clouds, wind)"
   ]
  },
  {
   "cell_type": "code",
   "execution_count": null,
   "id": "2c325c64",
   "metadata": {},
   "outputs": [],
   "source": []
  }
 ],
 "metadata": {
  "kernelspec": {
   "display_name": "PythonData",
   "language": "python",
   "name": "pythondata"
  },
  "language_info": {
   "codemirror_mode": {
    "name": "ipython",
    "version": 3
   },
   "file_extension": ".py",
   "mimetype": "text/x-python",
   "name": "python",
   "nbconvert_exporter": "python",
   "pygments_lexer": "ipython3",
   "version": "3.7.11"
  }
 },
 "nbformat": 4,
 "nbformat_minor": 5
}
